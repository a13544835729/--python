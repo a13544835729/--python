{
 "cells": [
  {
   "cell_type": "code",
   "execution_count": 1,
   "metadata": {},
   "outputs": [],
   "source": [
    "import pandas as pd\n",
    "import numpy as np\n",
    "import matplotlib.pyplot as plt\n",
    "import seaborn as sns\n",
    "from pyecharts import Pie,Bar,Map\n",
    "from pyecharts import Funnel\n",
    "from pyecharts import Radar\n",
    "from pyecharts import Line\n",
    "from collections import Counter"
   ]
  },
  {
   "cell_type": "code",
   "execution_count": 2,
   "metadata": {},
   "outputs": [],
   "source": [
    "#导入数据\n",
    "df_lagou=pd.read_csv('lagou_job.csv')"
   ]
  },
  {
   "cell_type": "code",
   "execution_count": 3,
   "metadata": {},
   "outputs": [
    {
     "data": {
      "text/html": [
       "<div>\n",
       "<style scoped>\n",
       "    .dataframe tbody tr th:only-of-type {\n",
       "        vertical-align: middle;\n",
       "    }\n",
       "\n",
       "    .dataframe tbody tr th {\n",
       "        vertical-align: top;\n",
       "    }\n",
       "\n",
       "    .dataframe thead th {\n",
       "        text-align: right;\n",
       "    }\n",
       "</style>\n",
       "<table border=\"1\" class=\"dataframe\">\n",
       "  <thead>\n",
       "    <tr style=\"text-align: right;\">\n",
       "      <th></th>\n",
       "      <th>职位名称</th>\n",
       "      <th>公司名称</th>\n",
       "      <th>公司规模</th>\n",
       "      <th>行业</th>\n",
       "      <th>融资</th>\n",
       "      <th>技能要求</th>\n",
       "      <th>地区</th>\n",
       "      <th>薪资</th>\n",
       "      <th>工作经验</th>\n",
       "      <th>学历</th>\n",
       "      <th>福利</th>\n",
       "    </tr>\n",
       "  </thead>\n",
       "  <tbody>\n",
       "    <tr>\n",
       "      <th>0</th>\n",
       "      <td>数据分析师</td>\n",
       "      <td>青木数字技术股份有限公司</td>\n",
       "      <td>500-2000人</td>\n",
       "      <td>电商</td>\n",
       "      <td>未融资</td>\n",
       "      <td>['BI', '可视化', '数据分析', '数据库']</td>\n",
       "      <td>海珠区</td>\n",
       "      <td>7k-14k</td>\n",
       "      <td>不限</td>\n",
       "      <td>本科</td>\n",
       "      <td>晋升机会 导师带教 品牌机会 周末双休</td>\n",
       "    </tr>\n",
       "    <tr>\n",
       "      <th>1</th>\n",
       "      <td>PTBU-数据分析师</td>\n",
       "      <td>广州酷狗计算机科技有限公司</td>\n",
       "      <td>500-2000人</td>\n",
       "      <td>文娱丨内容</td>\n",
       "      <td>上市公司</td>\n",
       "      <td>['数据分析']</td>\n",
       "      <td>天河区</td>\n",
       "      <td>15k-25k</td>\n",
       "      <td>不限</td>\n",
       "      <td>本科</td>\n",
       "      <td>餐饮补贴 大平台 五险一金 年终奖</td>\n",
       "    </tr>\n",
       "    <tr>\n",
       "      <th>2</th>\n",
       "      <td>数据分析实习生</td>\n",
       "      <td>广州汇量信息科技有限公司</td>\n",
       "      <td>500-2000人</td>\n",
       "      <td>广告营销</td>\n",
       "      <td>上市公司</td>\n",
       "      <td>[]</td>\n",
       "      <td>天河区</td>\n",
       "      <td>2k-3k</td>\n",
       "      <td>应届毕业生</td>\n",
       "      <td>不限</td>\n",
       "      <td>环境好大牛带包四餐弹性工作</td>\n",
       "    </tr>\n",
       "    <tr>\n",
       "      <th>3</th>\n",
       "      <td>高级数据分析师</td>\n",
       "      <td>广州富米科技有限公司</td>\n",
       "      <td>500-2000人</td>\n",
       "      <td>移动互联网,电商</td>\n",
       "      <td>B轮</td>\n",
       "      <td>['市场', '行业分析', '数据分析', '消费者分析']</td>\n",
       "      <td>荔湾区</td>\n",
       "      <td>18k-25k</td>\n",
       "      <td>3-5年</td>\n",
       "      <td>本科</td>\n",
       "      <td>1000+规模 发展空间大 月流水过亿</td>\n",
       "    </tr>\n",
       "    <tr>\n",
       "      <th>4</th>\n",
       "      <td>资深数据分析师（增长方向）</td>\n",
       "      <td>上海触乐信息科技有限公司</td>\n",
       "      <td>500-2000人</td>\n",
       "      <td>移动互联网,数据服务</td>\n",
       "      <td>上市公司</td>\n",
       "      <td>['Hive', 'SQLServer', '数据分析']</td>\n",
       "      <td>海珠区</td>\n",
       "      <td>20k-35k</td>\n",
       "      <td>3-5年</td>\n",
       "      <td>本科</td>\n",
       "      <td>美股上市公司，团队牛人多</td>\n",
       "    </tr>\n",
       "  </tbody>\n",
       "</table>\n",
       "</div>"
      ],
      "text/plain": [
       "            职位名称           公司名称       公司规模          行业    融资  \\\n",
       "0          数据分析师   青木数字技术股份有限公司  500-2000人          电商   未融资   \n",
       "1     PTBU-数据分析师  广州酷狗计算机科技有限公司  500-2000人       文娱丨内容  上市公司   \n",
       "2        数据分析实习生   广州汇量信息科技有限公司  500-2000人        广告营销  上市公司   \n",
       "3        高级数据分析师     广州富米科技有限公司  500-2000人    移动互联网,电商    B轮   \n",
       "4  资深数据分析师（增长方向）   上海触乐信息科技有限公司  500-2000人  移动互联网,数据服务  上市公司   \n",
       "\n",
       "                              技能要求   地区       薪资   工作经验  学历  \\\n",
       "0     ['BI', '可视化', '数据分析', '数据库']  海珠区   7k-14k     不限  本科   \n",
       "1                         ['数据分析']  天河区  15k-25k     不限  本科   \n",
       "2                               []  天河区    2k-3k  应届毕业生  不限   \n",
       "3  ['市场', '行业分析', '数据分析', '消费者分析']  荔湾区  18k-25k   3-5年  本科   \n",
       "4    ['Hive', 'SQLServer', '数据分析']  海珠区  20k-35k   3-5年  本科   \n",
       "\n",
       "                    福利  \n",
       "0  晋升机会 导师带教 品牌机会 周末双休  \n",
       "1    餐饮补贴 大平台 五险一金 年终奖  \n",
       "2        环境好大牛带包四餐弹性工作  \n",
       "3  1000+规模 发展空间大 月流水过亿  \n",
       "4         美股上市公司，团队牛人多  "
      ]
     },
     "execution_count": 3,
     "metadata": {},
     "output_type": "execute_result"
    }
   ],
   "source": [
    "#预览数据\n",
    "df_lagou.head()\n",
    "#技能要求项，是列表，而且存在空列表"
   ]
  },
  {
   "cell_type": "code",
   "execution_count": 6,
   "metadata": {},
   "outputs": [
    {
     "data": {
      "text/plain": [
       "(184, 11)"
      ]
     },
     "execution_count": 6,
     "metadata": {},
     "output_type": "execute_result"
    }
   ],
   "source": [
    "#查看数据结构\n",
    "df_lagou.shape"
   ]
  },
  {
   "cell_type": "code",
   "execution_count": 7,
   "metadata": {
    "scrolled": false
   },
   "outputs": [
    {
     "name": "stdout",
     "output_type": "stream",
     "text": [
      "<class 'pandas.core.frame.DataFrame'>\n",
      "RangeIndex: 184 entries, 0 to 183\n",
      "Data columns (total 11 columns):\n",
      "职位名称    184 non-null object\n",
      "公司名称    184 non-null object\n",
      "公司规模    184 non-null object\n",
      "行业      184 non-null object\n",
      "融资      184 non-null object\n",
      "技能要求    184 non-null object\n",
      "地区      184 non-null object\n",
      "薪资      184 non-null object\n",
      "工作经验    184 non-null object\n",
      "学历      184 non-null object\n",
      "福利      184 non-null object\n",
      "dtypes: object(11)\n",
      "memory usage: 15.9+ KB\n"
     ]
    }
   ],
   "source": [
    "#查看数据类型以及空间\n",
    "df_lagou.info()\n",
    "#没有空值， 数据类型都是字符"
   ]
  },
  {
   "cell_type": "code",
   "execution_count": 67,
   "metadata": {},
   "outputs": [],
   "source": [
    "#绘制地区柱形分布图\n",
    "area=Counter(df_lagou['地区'])\n",
    "area_name=list(area.keys())\n",
    "area_num=list(area.values())\n",
    "bar_area=Bar('广州数据分析岗位分布',title_pos='40%')\n",
    "bar_area.add('',area_name,area_num,yaxis_name='公司数量',yaxis_name_gap='40',xaxis_rotate=30,is_label_show=True)\n",
    "bar_area.render()\n"
   ]
  },
  {
   "cell_type": "code",
   "execution_count": 13,
   "metadata": {},
   "outputs": [
    {
     "data": {
      "text/plain": [
       "184"
      ]
     },
     "execution_count": 13,
     "metadata": {},
     "output_type": "execute_result"
    }
   ],
   "source": [
    "df_lagou['行业'].count()"
   ]
  },
  {
   "cell_type": "code",
   "execution_count": 12,
   "metadata": {},
   "outputs": [
    {
     "data": {
      "text/plain": [
       "184"
      ]
     },
     "execution_count": 12,
     "metadata": {},
     "output_type": "execute_result"
    }
   ],
   "source": [
    "df_lagou['地区'].count()"
   ]
  },
  {
   "cell_type": "code",
   "execution_count": 23,
   "metadata": {},
   "outputs": [],
   "source": [
    "#绘制广州地区地图\n",
    "area=Counter(df_lagou['地区'])\n",
    "area_name=list(area.keys())\n",
    "area_num=list(area.values())\n",
    "map = Map(\"广州数据分析岗位地区分布\",title_pos='40%')\n",
    "map.add('',area_name,area_num,maptype='广州市',is_visualmap=True,visual_text_color='#000'\n",
    ")\n",
    "map.render()"
   ]
  },
  {
   "cell_type": "code",
   "execution_count": 59,
   "metadata": {},
   "outputs": [],
   "source": [
    "#融资直方图\n",
    "fin=Counter(df_lagou['融资'])\n",
    "fin_name=list(fin.keys())\n",
    "fin_num=list(fin.values())\n",
    "bar_size=Bar('融资情况-柱形图',title_pos='40%')\n",
    "bar_size.add('',fin_name,fin_num,yaxis_name='公司数量',yaxis_name_gap='40',xaxis_rotate=30,is_label_show=True)\n",
    "bar_size.render()"
   ]
  },
  {
   "cell_type": "code",
   "execution_count": 62,
   "metadata": {},
   "outputs": [],
   "source": [
    "#融资饼图\n",
    "fin=Counter(df_lagou['融资'])\n",
    "fin_name=list(fin.keys())\n",
    "fin_num=list(fin.values())\n",
    "pie_fin=Pie('融资情况-饼图',title_pos='55%')\n",
    "pie_fin.add('',fin_name,fin_num,radius=[45,65],center=[62,50],legend_orient='vertical',is_label_show=True,legend_pos='85%')\n",
    "pie_fin.render()"
   ]
  },
  {
   "cell_type": "code",
   "execution_count": 65,
   "metadata": {},
   "outputs": [
    {
     "name": "stdout",
     "output_type": "stream",
     "text": [
      "['500-2000人', '2000人以上', '150-500人', '50-150人', '15-50人', '少于15人']\n",
      "[51, 41, 39, 18, 26, 9]\n"
     ]
    }
   ],
   "source": [
    "#规模六边形图\n",
    "from pyecharts import Radar\n",
    "size=Counter(df_lagou['公司规模'])\n",
    "size_name=list(size.keys())\n",
    "print(size_name)\n",
    "size_num=list(size.values())\n",
    "print(size_num)\n",
    "job_size=[]\n",
    "job_size.append(size_num)\n",
    "schema =[('500-2000人',100),('2000人以上',100),('150-500人',100),('50-150人',100),('15-50人',100),('少于15人',100)]\n",
    "radar=Radar()\n",
    "radar.config(schema)\n",
    "radar.add('公司规模',job_size,label_color=['#4e79a7'],is_area_show=True)\n",
    "radar.render()"
   ]
  },
  {
   "cell_type": "code",
   "execution_count": 1,
   "metadata": {},
   "outputs": [],
   "source": [
    "# import numpy as np\n",
    "# from pyecharts import Map\n",
    "# areas = [\"荔湾区\",\"越秀区\"]\n",
    "# values = np.random.randint(1,100,size = 2)\n",
    "# test_map = Map(\"test\", width=1200, height=600)\n",
    "# test_map.add(\"\", areas, values, maptype=\"广州\", is_visualmap=True, \n",
    "#         visual_text_color='#000', is_label_show=True)\n",
    "# test_map.render()"
   ]
  },
  {
   "cell_type": "code",
   "execution_count": 38,
   "metadata": {},
   "outputs": [],
   "source": [
    "# import numpy as np\n",
    "# from pyecharts import Map\n",
    "# areas = ['广东','广西','湖南','江西','福建']\n",
    "# values = np.random.randint(1,100,size = 5)\n",
    "# test_map = Map(\"test\", width=1200, height=600)\n",
    "# test_map.add(\"\", areas, values, maptype='china', is_visualmap=True, \n",
    "#         visual_text_color='#000', is_label_show=True)\n",
    "# test_map.render()"
   ]
  },
  {
   "cell_type": "code",
   "execution_count": 34,
   "metadata": {
    "scrolled": true
   },
   "outputs": [],
   "source": [
    "#统计分布\n",
    "#工作经验漏斗图\n",
    "exp=Counter(df_lagou['工作经验'])\n",
    "exp_name=list(exp.keys())\n",
    "exp_num=list(exp.values())\n",
    "funnel=Funnel(\"工作经验要求\",title_pos = \"center\")\n",
    "funnel.add('',exp_name,\n",
    "           exp_num,\n",
    "           is_label_show=True,\n",
    "           label_pos='outside',\n",
    "           legend_orient='vertical',\n",
    "           legend_pos='left')\n",
    "\n",
    "funnel.render()"
   ]
  },
  {
   "cell_type": "code",
   "execution_count": 42,
   "metadata": {},
   "outputs": [],
   "source": [
    "#学历直方图\n",
    "edu=Counter(df_lagou['学历'])\n",
    "edu_name=list(edu.keys())\n",
    "edu_num=list(edu.values())\n",
    "edu_bar=Bar('学历要求',title_pos='40%')\n",
    "edu_bar.add('',edu_name,edu_num,yaxis_name='公司数量',yaxis_name_gap='40',xaxis_rotate=30,is_label_show=True)\n",
    "edu_bar.render()"
   ]
  },
  {
   "cell_type": "code",
   "execution_count": 48,
   "metadata": {},
   "outputs": [
    {
     "name": "stdout",
     "output_type": "stream",
     "text": [
      "['本科', '不限', '硕士', '大专']\n"
     ]
    }
   ],
   "source": [
    "#学历饼图\n",
    "edu=Counter(df_lagou['学历'])\n",
    "edu_name=list(edu.keys())\n",
    "print(edu_name)\n",
    "edu_num=list(edu.values())\n",
    "edu_Pie=Pie('学历要求',title_pos='50%')\n",
    "edu_Pie.add('',edu_name,edu_num,legend_orient='vertical',is_label_show=True,legend_pos='85%')\n",
    "edu_Pie.render()"
   ]
  },
  {
   "cell_type": "code",
   "execution_count": 73,
   "metadata": {},
   "outputs": [
    {
     "name": "stdout",
     "output_type": "stream",
     "text": [
      "{'5k以下': 22, '5k-15k': 137, '15k-25k': 21, '25k-35k': 4, '35k以上': 0}\n"
     ]
    }
   ],
   "source": [
    "#薪资柱形图\n",
    "import seaborn as sns\n",
    "# salary=Counter(df_lagou['薪资'])\n",
    "salary={'5k以下':0,'5k-15k':0,'15k-25k':0,'25k-35k':0,'35k以上':0}\n",
    "list(df_lagou['薪资'])\n",
    "for item in df_lagou['薪资']:\n",
    "    if int(item.split('k')[0])<5:\n",
    "        salary['5k以下']+=1\n",
    "    elif 5<=int(item.split('k')[0])<=15:\n",
    "        salary['5k-15k']+=1\n",
    "    elif 15<=int(item.split('k')[0])<=25:\n",
    "        salary['15k-25k']+=1\n",
    "    elif 25<=int(item.split('k')[0])<=35:\n",
    "        salary['25k-35k']+=1\n",
    "    else:\n",
    "        salary['35k以上']+=1\n",
    "print(salary)"
   ]
  },
  {
   "cell_type": "code",
   "execution_count": 28,
   "metadata": {},
   "outputs": [],
   "source": [
    "# ['10k以下','10k-20k','20k-30k','30k-40k','40k以上']\n",
    "# '18k-25k'.split('k')"
   ]
  },
  {
   "cell_type": "code",
   "execution_count": 92,
   "metadata": {},
   "outputs": [
    {
     "name": "stdout",
     "output_type": "stream",
     "text": [
      "['5k以下', '5k-15k', '15k-25k', '25k-35k', '35k以上']\n",
      "[22, 137, 21, 4, 0]\n"
     ]
    }
   ],
   "source": [
    "\n",
    "import seaborn as sns\n",
    "salary_name=list(salary.keys())\n",
    "print(salary_name)\n",
    "salary_num=list(salary.values())\n",
    "print(salary_num)\n",
    "salary_bar=Bar('学历要求',title_pos='40%')\n",
    "salary_bar.add('',salary_name,salary_num,yaxis_name='公司数量',yaxis_name_gap='40',xaxis_rotate=30,is_label_show=True)\n",
    "salary_bar.render()"
   ]
  },
  {
   "cell_type": "code",
   "execution_count": 131,
   "metadata": {},
   "outputs": [],
   "source": [
    "#福利词云\n",
    "import re\n",
    "from pyecharts import WordCloud\n",
    "str2=' '.join(str(i) for i in df_lagou['福利'])\n",
    "words=re.split('\\W',str2)\n",
    "wordCount_dict=Counter(words)\n",
    "# wordCount_dict\n",
    "wordCount_name=list(wordCount_dict.keys())\n",
    "wordCount_num=list(wordCount_dict.values())\n",
    "wordcloud=WordCloud(width=800,height=500)\n",
    "wordcloud.add('',wordCount_name,wordCount_num,word_size_range=[20,100])\n",
    "wordcloud.render()"
   ]
  },
  {
   "cell_type": "code",
   "execution_count": 7,
   "metadata": {},
   "outputs": [],
   "source": [
    "#技能词云\n",
    "import re\n",
    "from pyecharts import WordCloud\n",
    "str2=' '.join(str(i) for i in df_lagou['技能要求'])\n",
    "words=re.split('\\W',str2)\n",
    "wordCount_dict=Counter(words)\n",
    "# wordCount_dict\n",
    "wordCount_name=list(wordCount_dict.keys())\n",
    "wordCount_num=list(wordCount_dict.values())\n",
    "wordcloud=WordCloud(width=800,height=500)\n",
    "wordcloud.add('',wordCount_name,wordCount_num,word_size_range=[20,100])\n",
    "wordcloud.render()"
   ]
  },
  {
   "cell_type": "code",
   "execution_count": 3,
   "metadata": {},
   "outputs": [
    {
     "ename": "NameError",
     "evalue": "name 'df_lagou' is not defined",
     "output_type": "error",
     "traceback": [
      "\u001b[1;31m---------------------------------------------------------------------------\u001b[0m",
      "\u001b[1;31mNameError\u001b[0m                                 Traceback (most recent call last)",
      "\u001b[1;32m<ipython-input-3-0341e11ce8ac>\u001b[0m in \u001b[0;36m<module>\u001b[1;34m\u001b[0m\n\u001b[0;32m      2\u001b[0m \u001b[1;32mimport\u001b[0m \u001b[0mre\u001b[0m\u001b[1;33m\u001b[0m\u001b[1;33m\u001b[0m\u001b[0m\n\u001b[0;32m      3\u001b[0m \u001b[0mlagou\u001b[0m\u001b[1;33m=\u001b[0m\u001b[1;33m[\u001b[0m\u001b[1;33m]\u001b[0m\u001b[1;33m\u001b[0m\u001b[1;33m\u001b[0m\u001b[0m\n\u001b[1;32m----> 4\u001b[1;33m \u001b[1;32mfor\u001b[0m \u001b[0mitem\u001b[0m \u001b[1;32min\u001b[0m \u001b[0mdf_lagou\u001b[0m\u001b[1;33m[\u001b[0m\u001b[1;34m'行业'\u001b[0m\u001b[1;33m]\u001b[0m\u001b[1;33m.\u001b[0m\u001b[0mtolist\u001b[0m\u001b[1;33m(\u001b[0m\u001b[1;33m)\u001b[0m\u001b[1;33m:\u001b[0m\u001b[1;33m\u001b[0m\u001b[1;33m\u001b[0m\u001b[0m\n\u001b[0m\u001b[0;32m      5\u001b[0m     \u001b[0mlagou\u001b[0m\u001b[1;33m.\u001b[0m\u001b[0mappend\u001b[0m\u001b[1;33m(\u001b[0m\u001b[0mre\u001b[0m\u001b[1;33m.\u001b[0m\u001b[0msplit\u001b[0m\u001b[1;33m(\u001b[0m\u001b[1;34m'\\W'\u001b[0m\u001b[1;33m,\u001b[0m\u001b[0mitem\u001b[0m\u001b[1;33m)\u001b[0m\u001b[1;33m[\u001b[0m\u001b[1;36m0\u001b[0m\u001b[1;33m]\u001b[0m\u001b[1;33m)\u001b[0m\u001b[1;33m\u001b[0m\u001b[1;33m\u001b[0m\u001b[0m\n\u001b[0;32m      6\u001b[0m \u001b[1;33m\u001b[0m\u001b[0m\n",
      "\u001b[1;31mNameError\u001b[0m: name 'df_lagou' is not defined"
     ]
    }
   ],
   "source": [
    "#行业分布混合图\n",
    "import re\n",
    "lagou=[]\n",
    "for item in df_lagou['行业'].tolist():\n",
    "    lagou.append(re.split('\\W',item)[0])\n",
    "\n",
    "industry=Counter(lagou)\n",
    "industry_name=list(industry.keys())\n",
    "# print(industry_name)\n",
    "industry_num=list(industry.values())\n",
    "bar_industry=Bar('行业分布',title_pos='40%')\n",
    "line_industry=Line()\n",
    "line_industry.add('',industry_name,industry_num,yaxis_name='职位数量',xaxis_rotate=90,is_label_show=True,interval=0)\n",
    "bar_industry.add('',industry_name,industry_num,yaxis_name='职位数量',xaxis_rotate=90,is_label_show=True,interval=0)\n",
    "\n",
    "overlap=Overlap()\n",
    "overlap.add(bar_industry)\n",
    "overlap.add(line_industry)\n",
    "overlap.show_config()\n",
    "overlap.render()"
   ]
  },
  {
   "cell_type": "code",
   "execution_count": null,
   "metadata": {},
   "outputs": [],
   "source": []
  }
 ],
 "metadata": {
  "kernelspec": {
   "display_name": "Python 3",
   "language": "python",
   "name": "python3"
  },
  "language_info": {
   "codemirror_mode": {
    "name": "ipython",
    "version": 3
   },
   "file_extension": ".py",
   "mimetype": "text/x-python",
   "name": "python",
   "nbconvert_exporter": "python",
   "pygments_lexer": "ipython3",
   "version": "3.7.3"
  }
 },
 "nbformat": 4,
 "nbformat_minor": 2
}
